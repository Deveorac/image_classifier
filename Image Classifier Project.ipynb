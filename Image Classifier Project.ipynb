{
 "cells": [
  {
   "cell_type": "markdown",
   "metadata": {},
   "source": [
    "# Developing an AI application\n",
    "\n",
    "Going forward, AI algorithms will be incorporated into more and more everyday applications. For example, you might want to include an image classifier in a smart phone app. To do this, you'd use a deep learning model trained on hundreds of thousands of images as part of the overall application architecture. A large part of software development in the future will be using these types of models as common parts of applications. \n",
    "\n",
    "In this project, you'll train an image classifier to recognize different species of flowers. You can imagine using something like this in a phone app that tells you the name of the flower your camera is looking at. In practice you'd train this classifier, then export it for use in your application. We'll be using [this dataset](http://www.robots.ox.ac.uk/~vgg/data/flowers/102/index.html) of 102 flower categories, you can see a few examples below. \n",
    "\n",
    "<img src='assets/Flowers.png' width=500px>\n",
    "\n",
    "The project is broken down into multiple steps:\n",
    "\n",
    "* Load and preprocess the image dataset\n",
    "* Train the image classifier on your dataset\n",
    "* Use the trained classifier to predict image content\n",
    "\n",
    "We'll lead you through each part which you'll implement in Python.\n",
    "\n",
    "When you've completed this project, you'll have an application that can be trained on any set of labeled images. Here your network will be learning about flowers and end up as a command line application. But, what you do with your new skills depends on your imagination and effort in building a dataset. For example, imagine an app where you take a picture of a car, it tells you what the make and model is, then looks up information about it. Go build your own dataset and make something new.\n",
    "\n",
    "First up is importing the packages you'll need. It's good practice to keep all the imports at the beginning of your code. As you work through this notebook and find you need to import a package, make sure to add the import up here."
   ]
  },
  {
   "cell_type": "code",
   "execution_count": 61,
   "metadata": {},
   "outputs": [
    {
     "name": "stdout",
     "output_type": "stream",
     "text": [
      "Imports successful\n"
     ]
    }
   ],
   "source": [
    "import numpy as np\n",
    "from matplotlib import *\n",
    "import matplotlib.pyplot as plt\n",
    "import torch\n",
    "from torch import nn\n",
    "from torch import tensor\n",
    "from torch import optim\n",
    "import torch.nn.functional as F\n",
    "from torch.autograd import Variable\n",
    "from torchvision import datasets, transforms\n",
    "import torchvision.models as models\n",
    "import argparse\n",
    "from collections import OrderedDict\n",
    "import json\n",
    "import seaborn as sb\n",
    "import PIL\n",
    "from PIL import Image\n",
    "import time\n",
    "print('Imports successful')"
   ]
  },
  {
   "cell_type": "markdown",
   "metadata": {},
   "source": [
    "## Load the data\n",
    "\n",
    "Here you'll use `torchvision` to load the data ([documentation](http://pytorch.org/docs/0.3.0/torchvision/index.html)). The data should be included alongside this notebook, otherwise you can [download it here](https://s3.amazonaws.com/content.udacity-data.com/nd089/flower_data.tar.gz). The dataset is split into three parts, training, validation, and testing. For the training, you'll want to apply transformations such as random scaling, cropping, and flipping. This will help the network generalize leading to better performance. You'll also need to make sure the input data is resized to 224x224 pixels as required by the pre-trained networks.\n",
    "\n",
    "The validation and testing sets are used to measure the model's performance on data it hasn't seen yet. For this you don't want any scaling or rotation transformations, but you'll need to resize then crop the images to the appropriate size.\n",
    "\n",
    "The pre-trained networks you'll use were trained on the ImageNet dataset where each color channel was normalized separately. For all three sets you'll need to normalize the means and standard deviations of the images to what the network expects. For the means, it's `[0.485, 0.456, 0.406]` and for the standard deviations `[0.229, 0.224, 0.225]`, calculated from the ImageNet images.  These values will shift each color channel to be centered at 0 and range from -1 to 1.\n",
    " "
   ]
  },
  {
   "cell_type": "code",
   "execution_count": 11,
   "metadata": {},
   "outputs": [],
   "source": [
    "data_dir = 'flowers'\n",
    "train_dir = data_dir + '/train'\n",
    "valid_dir = data_dir + '/valid'\n",
    "test_dir = data_dir + '/test'"
   ]
  },
  {
   "cell_type": "code",
   "execution_count": 12,
   "metadata": {},
   "outputs": [
    {
     "name": "stdout",
     "output_type": "stream",
     "text": [
      "Load successful.\n"
     ]
    }
   ],
   "source": [
    "train_transforms = transforms.Compose([transforms.RandomRotation(30),\n",
    "                                       transforms.RandomResizedCrop(224),\n",
    "                                       transforms.RandomHorizontalFlip(),\n",
    "                                       transforms.ToTensor(),\n",
    "                                       transforms.Normalize([0.485, 0.456, 0.406], \n",
    "                                                            [0.229, 0.224, 0.225])])\n",
    "test_transforms = transforms.Compose([transforms.Resize(256),\n",
    "                                      transforms.CenterCrop(224),\n",
    "                                      transforms.ToTensor(),\n",
    "                                      transforms.Normalize([0.485, 0.456, 0.406], \n",
    "                                                           [0.229, 0.224, 0.225])]) \n",
    "\n",
    "\n",
    "# TODO: Load the datasets with ImageFolder\n",
    "# valid data will use the same transformations as the test data\n",
    "\n",
    "train_data = datasets.ImageFolder(train_dir, transform = train_transforms)\n",
    "test_data = datasets.ImageFolder(test_dir, transform = test_transforms)\n",
    "valid_data = datasets.ImageFolder(valid_dir, transform = test_transforms)\n",
    "\n",
    "\n",
    "# TODO: Using the image datasets and the trainforms, define the dataloaders\n",
    "# Shuffle set to true so that the order of the images does not impact model generation\n",
    "\n",
    "trainloader = torch.utils.data.DataLoader(train_data, batch_size=64, shuffle = True)\n",
    "testloader = torch.utils.data.DataLoader(test_data, batch_size=64, shuffle = True)\n",
    "validloader = torch.utils.data.DataLoader(valid_data, batch_size=64, shuffle = True)\n",
    "\n",
    "print(\"Load successful.\")"
   ]
  },
  {
   "cell_type": "markdown",
   "metadata": {},
   "source": [
    "### Label mapping\n",
    "\n",
    "You'll also need to load in a mapping from category label to category name. You can find this in the file `cat_to_name.json`. It's a JSON object which you can read in with the [`json` module](https://docs.python.org/2/library/json.html). This will give you a dictionary mapping the integer encoded categories to the actual names of the flowers."
   ]
  },
  {
   "cell_type": "code",
   "execution_count": 13,
   "metadata": {},
   "outputs": [],
   "source": [
    "with open('cat_to_name.json', 'r') as f:\n",
    "    cat_to_name = json.load(f)"
   ]
  },
  {
   "cell_type": "markdown",
   "metadata": {},
   "source": [
    "# Building and training the classifier\n",
    "\n",
    "Now that the data is ready, it's time to build and train the classifier. As usual, you should use one of the pretrained models from `torchvision.models` to get the image features. Build and train a new feed-forward classifier using those features.\n",
    "\n",
    "We're going to leave this part up to you. Refer to [the rubric](https://review.udacity.com/#!/rubrics/1663/view) for guidance on successfully completing this section. Things you'll need to do:\n",
    "\n",
    "* Load a [pre-trained network](http://pytorch.org/docs/master/torchvision/models.html) (If you need a starting point, the VGG networks work great and are straightforward to use)\n",
    "* Define a new, untrained feed-forward network as a classifier, using ReLU activations and dropout\n",
    "* Train the classifier layers using backpropagation using the pre-trained network to get the features\n",
    "* Track the loss and accuracy on the validation set to determine the best hyperparameters\n",
    "\n",
    "We've left a cell open for you below, but use as many as you need. Our advice is to break the problem up into smaller parts you can run separately. Check that each part is doing what you expect, then move on to the next. You'll likely find that as you work through each part, you'll need to go back and modify your previous code. This is totally normal!\n",
    "\n",
    "When training make sure you're updating only the weights of the feed-forward network. You should be able to get the validation accuracy above 70% if you build everything right. Make sure to try different hyperparameters (learning rate, units in the classifier, epochs, etc) to find the best model. Save those hyperparameters to use as default values in the next part of the project.\n",
    "\n",
    "One last important tip if you're using the workspace to run your code: To avoid having your workspace disconnect during the long-running tasks in this notebook, please read in the earlier page in this lesson called Intro to\n",
    "GPU Workspaces about Keeping Your Session Active. You'll want to include code from the workspace_utils.py module.\n",
    "\n",
    "**Note for Workspace users:** If your network is over 1 GB when saved as a checkpoint, there might be issues with saving backups in your workspace. Typically this happens with wide dense layers after the convolutional layers. If your saved checkpoint is larger than 1 GB (you can open a terminal and check with `ls -lh`), you should reduce the size of your hidden layers and train again."
   ]
  },
  {
   "cell_type": "code",
   "execution_count": 17,
   "metadata": {},
   "outputs": [],
   "source": [
    "model = models.vgg16(pretrained = True)\n",
    "\n",
    "# setting parameters requires_grad to False to minimize storage requirements when using a pre-trained model\n",
    "\n",
    "for param in model.parameters():\n",
    "    param.requires_grad = False\n",
    "\n",
    "\n",
    "hidden_units = 256 \n",
    "in_feat = model.classifier[0].in_features\n",
    "\n",
    "classifier = nn.Sequential(OrderedDict([\n",
    "                          ('f1', nn.Linear(in_feat, hidden_units, bias=True)),\n",
    "                          ('relu1', nn.ReLU()),\n",
    "                          ('dropout1', nn.Dropout(p=0.5)), # 50% chance of drop\n",
    "                          ('f2', nn.Linear(hidden_units, 102, bias=True)),\n",
    "                          ('output', nn.LogSoftmax(dim=1))\n",
    "                          ]))\n",
    "    \n",
    "model.classifier = classifier\n",
    "model.cuda()\n",
    "\n",
    "criterion = nn.NLLLoss()\n",
    "optimizer = optim.Adam(model.classifier.parameters(), lr = 0.001)"
   ]
  },
  {
   "cell_type": "code",
   "execution_count": 20,
   "metadata": {},
   "outputs": [
    {
     "name": "stdout",
     "output_type": "stream",
     "text": [
      "Epoch: 1/4\n",
      "Batch no: 015, Loss on training: 2.4072, Model accuracy: 0.4688\n",
      "Batch no: 031, Loss on training: 2.2043, Model accuracy: 0.4375\n",
      "Batch no: 047, Loss on training: 1.6585, Model accuracy: 0.5625\n",
      "Batch no: 063, Loss on training: 1.8317, Model accuracy: 0.4375\n",
      "Batch no: 079, Loss on training: 2.0721, Model accuracy: 0.4062\n",
      "Batch no: 095, Loss on training: 2.2527, Model accuracy: 0.4219\n",
      "Epoch: 1/4\n",
      "Batch no: 015, Loss on training: 2.1873, Model accuracy: 0.4688\n",
      "Batch no: 031, Loss on training: 1.5139, Model accuracy: 0.5938\n",
      "Batch no: 047, Loss on training: 1.5342, Model accuracy: 0.5938\n",
      "Batch no: 063, Loss on training: 2.1472, Model accuracy: 0.4062\n",
      "Batch no: 079, Loss on training: 1.6439, Model accuracy: 0.5625\n",
      "Batch no: 095, Loss on training: 1.9462, Model accuracy: 0.4531\n",
      "Epoch: 1/4\n",
      "Batch no: 015, Loss on training: 1.6942, Model accuracy: 0.5781\n",
      "Batch no: 031, Loss on training: 1.3683, Model accuracy: 0.5938\n",
      "Batch no: 047, Loss on training: 1.9582, Model accuracy: 0.5312\n",
      "Batch no: 063, Loss on training: 1.4622, Model accuracy: 0.6406\n",
      "Batch no: 079, Loss on training: 1.5997, Model accuracy: 0.5938\n",
      "Batch no: 095, Loss on training: 1.7510, Model accuracy: 0.5781\n",
      "Epoch: 1/4\n",
      "Batch no: 015, Loss on training: 1.2668, Model accuracy: 0.6562\n",
      "Batch no: 031, Loss on training: 1.4667, Model accuracy: 0.5469\n",
      "Batch no: 047, Loss on training: 1.2417, Model accuracy: 0.6406\n",
      "Batch no: 063, Loss on training: 1.6299, Model accuracy: 0.5469\n",
      "Batch no: 079, Loss on training: 2.2901, Model accuracy: 0.4375\n",
      "Batch no: 095, Loss on training: 1.6461, Model accuracy: 0.5000\n"
     ]
    }
   ],
   "source": [
    "# Determination of loss and accuracy\n",
    "\n",
    "epochs = 4 # higher number results in greater final accuracy\n",
    "print_every = 16 # limits the number of rows printed so that trends can be seen without too much data\n",
    "\n",
    "\n",
    "\n",
    "for e in range(epochs):\n",
    "    counter = 0\n",
    "    step = 0\n",
    "    \n",
    "    model.train()\n",
    "    \n",
    "    train_loss = 0.0\n",
    "    train_accuracy = 0.0\n",
    "    valid_loss = 0.0\n",
    "    valid_accuracy = 0.0\n",
    "    \n",
    "    print(\"Epoch: {}/{}\".format(counter+1, epochs))\n",
    "    \n",
    "    for ii, (inputs,labels) in enumerate(trainloader):\n",
    "        step += 1\n",
    "        inputs = inputs.to('cuda') # or 'gpu' if not available\n",
    "        labels = labels.to('cuda') # or 'gpu' if not available\n",
    "        \n",
    "        # clean existing\n",
    "        optimizer.zero_grad()\n",
    "        \n",
    "        # compute outputs\n",
    "        outputs = model(inputs)\n",
    "        loss = criterion(outputs,labels)\n",
    "        loss.backward()\n",
    "        optimizer.step()\n",
    "        \n",
    "        # only going to print every n iterations to track progress\n",
    "        if step % print_every == 0:\n",
    "        \n",
    "            # total loss\n",
    "            train_loss += loss.item() * inputs.size(0)\n",
    "        \n",
    "            # accuracy\n",
    "            ret, predictions = torch.max(outputs.data, 1)\n",
    "            correct_count = predictions.eq(labels.data.view_as(predictions))\n",
    "        \n",
    "            accuracy = torch.mean(correct_count.type(torch.FloatTensor))\n",
    "            \n",
    "            train_accuracy += accuracy.item() * inputs.size(0)\n",
    "    \n",
    "            print(\"Batch no: {:03d}, Loss on training: {:.4f}, Model accuracy: {:.4f}\".format(ii, loss.item(), accuracy.item()))"
   ]
  },
  {
   "cell_type": "markdown",
   "metadata": {},
   "source": [
    "## Testing your network\n",
    "\n",
    "It's good practice to test your trained network on test data, images the network has never seen either in training or validation. This will give you a good estimate for the model's performance on completely new images. Run the test images through the network and measure the accuracy, the same way you did validation. You should be able to reach around 70% accuracy on the test set if the model has been trained well."
   ]
  },
  {
   "cell_type": "code",
   "execution_count": 22,
   "metadata": {},
   "outputs": [
    {
     "name": "stdout",
     "output_type": "stream",
     "text": [
      "The model accuracy is: 80%\n"
     ]
    }
   ],
   "source": [
    "# TODO: Do validation on the test set\n",
    "pred_correct = 0\n",
    "pred_total = 0\n",
    "\n",
    "with torch.no_grad():\n",
    "    model.eval()\n",
    "    for image in trainloader:\n",
    "        images, labels = image\n",
    "        images = images.to('cuda') # or 'cuda' if enabled\n",
    "        labels = labels.to('cuda') # or 'cuda' if enabled\n",
    "        outputs = model(images)\n",
    "        _, predicted = torch.max(outputs.data, 1)\n",
    "        pred_correct += (predicted == labels).sum().item()\n",
    "        pred_total += labels.size(0)\n",
    "        \n",
    "print(\"The model accuracy is: %d%%\" % (pred_correct * 100 / pred_total))"
   ]
  },
  {
   "cell_type": "markdown",
   "metadata": {},
   "source": [
    "## Save Checkpoint\n",
    "\n",
    "Now that your network is trained, save the model so you can load it later for making predictions. You probably want to save other things such as the mapping of classes to indices which you get from one of the image datasets: image_datasets['train'].class_to_idx. You can attach this to the model as an attribute which makes inference easier later on.\n",
    "model.class_to_idx = image_datasets['train'].class_to_idx\n",
    "Remember that you'll want to completely rebuild the model later so you can use it for inference. Make sure to include any information you need in the checkpoint. If you want to load the model and keep training, you'll want to save the number of epochs as well as the optimizer state, optimizer.state_dict. You'll likely want to use this trained model in the next part of the project, so best to save it now."
   ]
  },
  {
   "cell_type": "code",
   "execution_count": 23,
   "metadata": {},
   "outputs": [],
   "source": [
    "# TODO: Save the checkpoint \n",
    "\n",
    "model.class_to_idx = train_data.class_to_idx\n",
    "model.cpu # change to cuda if enabled\n",
    "\n",
    "torch.save({'architecture' :'vgg16',\n",
    "            'classifier' : model.classifier,\n",
    "             'state_dict':model.state_dict(),\n",
    "             'class_to_idx':model.class_to_idx,},\n",
    "             'checkpoint.pth')"
   ]
  },
  {
   "cell_type": "markdown",
   "metadata": {},
   "source": [
    "## Loading the checkpoint\n",
    "\n",
    "At this point it's good to write a function that can load a checkpoint and rebuild the model. That way you can come back to this project and keep working on it without having to retrain the network."
   ]
  },
  {
   "cell_type": "code",
   "execution_count": 25,
   "metadata": {},
   "outputs": [
    {
     "name": "stdout",
     "output_type": "stream",
     "text": [
      "VGG(\n",
      "  (features): Sequential(\n",
      "    (0): Conv2d(3, 64, kernel_size=(3, 3), stride=(1, 1), padding=(1, 1))\n",
      "    (1): ReLU(inplace)\n",
      "    (2): Conv2d(64, 64, kernel_size=(3, 3), stride=(1, 1), padding=(1, 1))\n",
      "    (3): ReLU(inplace)\n",
      "    (4): MaxPool2d(kernel_size=2, stride=2, padding=0, dilation=1, ceil_mode=False)\n",
      "    (5): Conv2d(64, 128, kernel_size=(3, 3), stride=(1, 1), padding=(1, 1))\n",
      "    (6): ReLU(inplace)\n",
      "    (7): Conv2d(128, 128, kernel_size=(3, 3), stride=(1, 1), padding=(1, 1))\n",
      "    (8): ReLU(inplace)\n",
      "    (9): MaxPool2d(kernel_size=2, stride=2, padding=0, dilation=1, ceil_mode=False)\n",
      "    (10): Conv2d(128, 256, kernel_size=(3, 3), stride=(1, 1), padding=(1, 1))\n",
      "    (11): ReLU(inplace)\n",
      "    (12): Conv2d(256, 256, kernel_size=(3, 3), stride=(1, 1), padding=(1, 1))\n",
      "    (13): ReLU(inplace)\n",
      "    (14): Conv2d(256, 256, kernel_size=(3, 3), stride=(1, 1), padding=(1, 1))\n",
      "    (15): ReLU(inplace)\n",
      "    (16): MaxPool2d(kernel_size=2, stride=2, padding=0, dilation=1, ceil_mode=False)\n",
      "    (17): Conv2d(256, 512, kernel_size=(3, 3), stride=(1, 1), padding=(1, 1))\n",
      "    (18): ReLU(inplace)\n",
      "    (19): Conv2d(512, 512, kernel_size=(3, 3), stride=(1, 1), padding=(1, 1))\n",
      "    (20): ReLU(inplace)\n",
      "    (21): Conv2d(512, 512, kernel_size=(3, 3), stride=(1, 1), padding=(1, 1))\n",
      "    (22): ReLU(inplace)\n",
      "    (23): MaxPool2d(kernel_size=2, stride=2, padding=0, dilation=1, ceil_mode=False)\n",
      "    (24): Conv2d(512, 512, kernel_size=(3, 3), stride=(1, 1), padding=(1, 1))\n",
      "    (25): ReLU(inplace)\n",
      "    (26): Conv2d(512, 512, kernel_size=(3, 3), stride=(1, 1), padding=(1, 1))\n",
      "    (27): ReLU(inplace)\n",
      "    (28): Conv2d(512, 512, kernel_size=(3, 3), stride=(1, 1), padding=(1, 1))\n",
      "    (29): ReLU(inplace)\n",
      "    (30): MaxPool2d(kernel_size=2, stride=2, padding=0, dilation=1, ceil_mode=False)\n",
      "  )\n",
      "  (classifier): Sequential(\n",
      "    (f1): Linear(in_features=25088, out_features=256, bias=True)\n",
      "    (relu1): ReLU()\n",
      "    (dropout1): Dropout(p=0.5)\n",
      "    (f2): Linear(in_features=256, out_features=102, bias=True)\n",
      "    (output): LogSoftmax()\n",
      "  )\n",
      ")\n"
     ]
    }
   ],
   "source": [
    "# TODO: Write a function that loads a checkpoint and rebuilds the model\n",
    "\n",
    "def model_loader(path):\n",
    "    checkpoint = torch.load('checkpoint.pth')\n",
    "\n",
    "    \n",
    "    model = models.vgg16(pretrained = True)\n",
    "    model.name = 'vgg16'\n",
    "    for param in model.parameters():\n",
    "        param.requires_grad = False\n",
    "\n",
    "    model.class_to_idx = checkpoint['class_to_idx']\n",
    "    model.classifier = checkpoint['classifier']\n",
    "    model.load_state_dict(checkpoint['state_dict'])\n",
    "    \n",
    "    return model\n",
    "    \n",
    "    \n",
    "model_loader('checkpoint.pth')  \n",
    "print(model)"
   ]
  },
  {
   "cell_type": "markdown",
   "metadata": {},
   "source": [
    "# Inference for classification\n",
    "\n",
    "Now you'll write a function to use a trained network for inference. That is, you'll pass an image into the network and predict the class of the flower in the image. Write a function called `predict` that takes an image and a model, then returns the top $K$ most likely classes along with the probabilities. It should look like \n",
    "\n",
    "```python\n",
    "probs, classes = predict(image_path, model)\n",
    "print(probs)\n",
    "print(classes)\n",
    "> [ 0.01558163  0.01541934  0.01452626  0.01443549  0.01407339]\n",
    "> ['70', '3', '45', '62', '55']\n",
    "```\n",
    "\n",
    "First you'll need to handle processing the input image such that it can be used in your network. \n",
    "\n",
    "## Image Preprocessing\n",
    "\n",
    "You'll want to use `PIL` to load the image ([documentation](https://pillow.readthedocs.io/en/latest/reference/Image.html)). It's best to write a function that preprocesses the image so it can be used as input for the model. This function should process the images in the same manner used for training. \n",
    "\n",
    "First, resize the images where the shortest side is 256 pixels, keeping the aspect ratio. This can be done with the [`thumbnail`](http://pillow.readthedocs.io/en/3.1.x/reference/Image.html#PIL.Image.Image.thumbnail) or [`resize`](http://pillow.readthedocs.io/en/3.1.x/reference/Image.html#PIL.Image.Image.thumbnail) methods. Then you'll need to crop out the center 224x224 portion of the image.\n",
    "\n",
    "Color channels of images are typically encoded as integers 0-255, but the model expected floats 0-1. You'll need to convert the values. It's easiest with a Numpy array, which you can get from a PIL image like so `np_image = np.array(pil_image)`.\n",
    "\n",
    "As before, the network expects the images to be normalized in a specific way. For the means, it's `[0.485, 0.456, 0.406]` and for the standard deviations `[0.229, 0.224, 0.225]`. You'll want to subtract the means from each color channel, then divide by the standard deviation. \n",
    "\n",
    "And finally, PyTorch expects the color channel to be the first dimension but it's the third dimension in the PIL image and Numpy array. You can reorder dimensions using [`ndarray.transpose`](https://docs.scipy.org/doc/numpy-1.13.0/reference/generated/numpy.ndarray.transpose.html). The color channel needs to be first and retain the order of the other two dimensions."
   ]
  },
  {
   "cell_type": "code",
   "execution_count": 26,
   "metadata": {},
   "outputs": [],
   "source": [
    "def process_image(image):\n",
    "    ''' Scales, crops, and normalizes a PIL image for a PyTorch model,\n",
    "        returns an Numpy array\n",
    "    '''\n",
    "    \n",
    "    # TODO: Process a PIL image for use in a PyTorch model\n",
    "    \n",
    "    img = PIL.Image.open(image)\n",
    "    \n",
    "    # image dimensions\n",
    "    original_width, original_height = img.size\n",
    "    \n",
    "    # set size based on dimensions\n",
    "    if original_width < original_height:\n",
    "        size = [256, 256**600]\n",
    "    else:\n",
    "        size = [256**600, 256]\n",
    "    img.thumbnail(size)\n",
    "    \n",
    "    # crop to center\n",
    "    center = original_width/4, original_height/4\n",
    "    left, top, right, bottom = center[0]-(244/2), center[1]-(244/2), center[0]+(244/2), center[1]+(244/2)\n",
    "    img = img.crop((left, top, right, bottom))\n",
    "\n",
    "    numpy_img = np.array(img)/255 \n",
    "    \n",
    "    # normalization\n",
    "    mean = [0.485, 0.456, 0.406]\n",
    "    std = [0.229, 0.224, 0.225]\n",
    "    numpy_img = (numpy_img-mean)/std\n",
    "    \n",
    "    numpy_img = numpy_img.transpose(2,0,1)\n",
    "    \n",
    "    return numpy_img"
   ]
  },
  {
   "cell_type": "markdown",
   "metadata": {},
   "source": [
    "To check your work, the function below converts a PyTorch tensor and displays it in the notebook. If your `process_image` function works, running the output through this function should return the original image (except for the cropped out portions)."
   ]
  },
  {
   "cell_type": "code",
   "execution_count": 27,
   "metadata": {},
   "outputs": [],
   "source": [
    "def imshow(image, ax=None, title=None):\n",
    "    \"\"\"Imshow for Tensor.\"\"\"\n",
    "    if ax is None:\n",
    "        fig, ax = plt.subplots()\n",
    "    \n",
    "    # PyTorch tensors assume the color channel is the first dimension\n",
    "    # but matplotlib assumes is the third dimension\n",
    "    image = image.numpy().transpose((1, 2, 0))\n",
    "    \n",
    "    # Undo preprocessing\n",
    "    mean = np.array([0.485, 0.456, 0.406])\n",
    "    std = np.array([0.229, 0.224, 0.225])\n",
    "    image = std * image + mean\n",
    "    \n",
    "    # Image needs to be clipped between 0 and 1 or it looks like noise when displayed\n",
    "    image = np.clip(image, 0, 1)\n",
    "    \n",
    "    ax.imshow(image)\n",
    "    \n",
    "    return ax"
   ]
  },
  {
   "cell_type": "markdown",
   "metadata": {},
   "source": [
    "## Class Prediction\n",
    "\n",
    "Once you can get images in the correct format, it's time to write a function for making predictions with your model. A common practice is to predict the top 5 or so (usually called top-$K$) most probable classes. You'll want to calculate the class probabilities then find the $K$ largest values.\n",
    "\n",
    "To get the top $K$ largest values in a tensor use [`x.topk(k)`](http://pytorch.org/docs/master/torch.html#torch.topk). This method returns both the highest `k` probabilities and the indices of those probabilities corresponding to the classes. You need to convert from these indices to the actual class labels using `class_to_idx` which hopefully you added to the model or from an `ImageFolder` you used to load the data ([see here](#Save-the-checkpoint)). Make sure to invert the dictionary so you get a mapping from index to class as well.\n",
    "\n",
    "Again, this method should take a path to an image and a model checkpoint, then return the probabilities and classes.\n",
    "\n",
    "```python\n",
    "probs, classes = predict(image_path, model)\n",
    "print(probs)\n",
    "print(classes)\n",
    "> [ 0.01558163  0.01541934  0.01452626  0.01443549  0.01407339]\n",
    "> ['70', '3', '45', '62', '55']\n",
    "```"
   ]
  },
  {
   "cell_type": "code",
   "execution_count": 71,
   "metadata": {},
   "outputs": [],
   "source": [
    "def predict(image_path, model, top_k=5):\n",
    "    ''' Predict the class (or classes) of an image using a trained deep learning model.\n",
    "    '''\n",
    "    \n",
    "    # TODO: Implement the code to predict the class from an image file\n",
    "    \n",
    "    n_img = process_image(image_path)\n",
    "    \n",
    "    # Change following line to cpu if enabled\n",
    "    t_img = torch.from_numpy(n_img).type(torch.FloatTensor).unsqueeze_(0).to('cpu')\n",
    "    \n",
    "    model.to('cpu') # change to cpu if enabled\n",
    "    model.eval()\n",
    "\n",
    "    # Probabilites \n",
    "    log_probs = model(t_img)\n",
    "    linear_probs = torch.exp(log_probs)\n",
    "    \n",
    "    # Return top k probabilities, default 5\n",
    "    top_probs, top_class = linear_probs.topk(top_k, dim = 1)\n",
    "    \n",
    "    top_probs = np.array(top_probs.detach())[0]\n",
    "    top_class = np.array(top_class.detach())[0]\n",
    "    idx_to_class = {val: key for key, val in model.class_to_idx.items()}\n",
    "    top_class = [idx_to_class[i] for i in top_class]\n",
    "\n",
    "    return top_probs, top_class"
   ]
  },
  {
   "cell_type": "markdown",
   "metadata": {},
   "source": [
    "## Sanity Checking\n",
    "\n",
    "Now that you can use a trained model for predictions, check to make sure it makes sense. Even if the testing accuracy is high, it's always good to check that there aren't obvious bugs. Use `matplotlib` to plot the probabilities for the top 5 classes as a bar graph, along with the input image. It should look like this:\n",
    "\n",
    "<img src='assets/inference_example.png' width=300px>\n",
    "\n",
    "You can convert from the class integer encoding to actual flower names with the `cat_to_name.json` file (should have been loaded earlier in the notebook). To show a PyTorch tensor as an image, use the `imshow` function defined above."
   ]
  },
  {
   "cell_type": "code",
   "execution_count": 75,
   "metadata": {},
   "outputs": [
    {
     "data": {
      "image/png": "[encoded data removed]",
      "text/plain": [
       "<matplotlib.figure.Figure at 0x7fe2ce684390>"
      ]
     },
     "metadata": {
      "needs_background": "light"
     },
     "output_type": "display_data"
    }
   ],
   "source": [
    "# TODO: Display an image along with the top 5 classes\n",
    "\n",
    "img_path = 'flowers/test/9/image_06410.jpg'\n",
    "\n",
    "# Set up title\n",
    "number = img_path.split('/')[2]\n",
    "name = cat_to_name[number]\n",
    "\n",
    "# Make prediction\n",
    "probs, cls = predict(img_path, model) \n",
    "\n",
    "# Flower image\n",
    "fig, (a1,a2) = plt.subplots(figsize = (12,8), nrows=2)\n",
    "a1.imshow(Image.open(img_path))\n",
    "a1.set_title(name)\n",
    "\n",
    "# Plot bar chart\n",
    "\n",
    "labs = [cat_to_name[str(c)] for c in cls]\n",
    "y_val = np.arange(len(cls))\n",
    "a2.barh(y_val, probs, color='green')\n",
    "a2.set_yticklabels(labs)\n",
    "a2.set_yticks(y_val)\n",
    "a2.invert_yaxis()\n",
    "\n",
    "plt.show()"
   ]
  },
  {
   "cell_type": "code",
   "execution_count": null,
   "metadata": {},
   "outputs": [],
   "source": []
  }
 ],
 "metadata": {
  "kernelspec": {
   "display_name": "Python 3",
   "language": "python",
   "name": "python3"
  },
  "language_info": {
   "codemirror_mode": {
    "name": "ipython",
    "version": 3
   },
   "file_extension": ".py",
   "mimetype": "text/x-python",
   "name": "python",
   "nbconvert_exporter": "python",
   "pygments_lexer": "ipython3",
   "version": "3.6.3"
  }
 },
 "nbformat": 4,
 "nbformat_minor": 2
}
